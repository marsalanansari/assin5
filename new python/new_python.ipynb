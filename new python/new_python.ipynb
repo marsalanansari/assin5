{
 "cells": [
  {
   "cell_type": "code",
   "execution_count": 2,
   "id": "3e51a71f",
   "metadata": {},
   "outputs": [
    {
     "name": "stdout",
     "output_type": "stream",
     "text": [
      "Enter your marks90\n",
      "Enter your namearsalan\n",
      "you are on grate A+\n"
     ]
    }
   ],
   "source": [
    "marks = int(input('Enter your marks'))\n",
    "name = input('Enter your name')\n",
    "\n",
    "if marks > 100:\n",
    "    print('Enter right marks')\n",
    "elif marks <= 100:\n",
    "    print('you are on grate A+')\n",
    "elif marks <= 90:\n",
    "    print('you are on grate A')\n",
    "else:\n",
    "    print('I dont know')"
   ]
  },
  {
   "cell_type": "code",
   "execution_count": 3,
   "id": "816fff1f",
   "metadata": {},
   "outputs": [],
   "source": [
    "def mymarks(a,b):\n",
    "    marks1 = a\n",
    "    marks2 = b\n",
    "    print(marks1 + marks2)"
   ]
  },
  {
   "cell_type": "code",
   "execution_count": 4,
   "id": "a012807c",
   "metadata": {},
   "outputs": [
    {
     "name": "stdout",
     "output_type": "stream",
     "text": [
      "25\n",
      "None\n"
     ]
    }
   ],
   "source": [
    "print(mymarks(10,15))"
   ]
  },
  {
   "cell_type": "code",
   "execution_count": 5,
   "id": "7212bfa5",
   "metadata": {},
   "outputs": [
    {
     "name": "stdout",
     "output_type": "stream",
     "text": [
      "['arsalan', 'bilal', 'ahmad', 'badsha', 'kamran']\n",
      "['bilal', 'ahmad', 'badsha', 'naveed', 'imaran']\n"
     ]
    }
   ],
   "source": [
    "list = ['arsalan','bilal','ahmad','badsha','kamran']\n",
    "dosra = list.copy()\n",
    "list[-1]= 'naveed'\n",
    "list.append('imaran')\n",
    "del list[0]\n",
    "print(dosra)\n",
    "print(list)"
   ]
  },
  {
   "cell_type": "code",
   "execution_count": 6,
   "id": "303408a8",
   "metadata": {},
   "outputs": [
    {
     "name": "stdout",
     "output_type": "stream",
     "text": [
      "['bilal', 'pawan', 'ahmad', 'badsha', 'naveed', 'imaran']\n"
     ]
    }
   ],
   "source": [
    "list.insert(1,'pawan')\n",
    "print(list)"
   ]
  },
  {
   "cell_type": "code",
   "execution_count": 7,
   "id": "bcbcc5e1",
   "metadata": {},
   "outputs": [
    {
     "name": "stdout",
     "output_type": "stream",
     "text": [
      "['bilal', 'pawan', 'ahmad', 'badsha', 'naveed', 'imaran']\n"
     ]
    }
   ],
   "source": [
    "print(list)"
   ]
  },
  {
   "cell_type": "code",
   "execution_count": 8,
   "id": "0eb68190",
   "metadata": {},
   "outputs": [
    {
     "name": "stdout",
     "output_type": "stream",
     "text": [
      "imaran\n"
     ]
    }
   ],
   "source": [
    "baba = list.pop()\n",
    "print(baba)"
   ]
  },
  {
   "cell_type": "code",
   "execution_count": 49,
   "id": "982e00c4",
   "metadata": {},
   "outputs": [
    {
     "name": "stdout",
     "output_type": "stream",
     "text": [
      "0\n",
      "1\n",
      "2\n",
      "3\n",
      "4\n",
      "5\n",
      "2\n",
      "5\n",
      "8\n",
      "9\n",
      "10\n",
      "11\n",
      "12\n",
      "13\n",
      "14\n",
      "15\n",
      "16\n",
      "17\n",
      "5\n",
      "19\n",
      "4\n",
      "21\n",
      "0\n",
      "12\n",
      "24\n",
      "2\n",
      "3\n",
      "27\n",
      "4\n",
      "29\n",
      "30\n",
      "31\n",
      "11\n",
      "33\n",
      "34\n",
      "35\n",
      "36\n",
      "37\n",
      "37\n"
     ]
    }
   ],
   "source": [
    "num = [1,23,4,56,8,6,4,6,89,0,78,44,2,323,121,432,64,87,6,7,8,90,1,2,3,4,56,76,8,11,22,33,44,55,66,77,88,99]\n",
    "\n",
    "even = []\n",
    "odd = []\n",
    "\n",
    "for i in num:\n",
    "    print(num.index(i))\n",
    "    if i%2==0:\n",
    "        even.append(i)\n",
    "#         num.pop(num.index(i))\n",
    "    else:\n",
    "        odd.append(i)\n",
    "#         num.pop(num.index(i))\n",
    "# print(f'this is even list {even} and the lenght is {len(even)}')\n",
    "# print(f'this is odd list {odd} and the lenght is {len(odd)}')\n",
    "# print(f'this is num list {num} and the lenght is {len(num)}')\n",
    "\n",
    "print(num.index(i))"
   ]
  },
  {
   "cell_type": "code",
   "execution_count": 41,
   "id": "50490b64",
   "metadata": {},
   "outputs": [
    {
     "name": "stdout",
     "output_type": "stream",
     "text": [
      "[99, 88, 77, 66, 55, 44, 33, 22, 11, 8, 76, 56, 4, 3, 2, 1, 90, 8, 7, 6, 87, 64, 432, 121, 323, 2, 44, 78, 0, 89, 6, 4, 6, 8, 56, 4, 23, 1]\n"
     ]
    }
   ],
   "source": [
    "num = [1,23,4,56,8,6,4,6,89,0,78,44,2,323,121,432,64,87,6,7,8,90,1,2,3,4,56,76,8,11,22,33,44,55,66,77,88,99]\n",
    "\n",
    "bb = num[::-1]\n",
    "print(bb)"
   ]
  },
  {
   "cell_type": "code",
   "execution_count": 46,
   "id": "8c2c82d3",
   "metadata": {},
   "outputs": [
    {
     "name": "stdout",
     "output_type": "stream",
     "text": [
      "1  3  5  7  9  11  13  15  17  19  21  23  25  27  29  31  33  35  37  39  41  43  45  47  49  51  53  55  57  59  61  63  65  67  69  71  73  75  77  79  81  83  85  87  89  91  93  95  97  99  "
     ]
    }
   ],
   "source": [
    "for b in range(1,100,2):\n",
    "    print(b,end=\"  \")"
   ]
  },
  {
   "cell_type": "code",
   "execution_count": null,
   "id": "6d378087",
   "metadata": {},
   "outputs": [],
   "source": []
  }
 ],
 "metadata": {
  "kernelspec": {
   "display_name": "Python 3 (ipykernel)",
   "language": "python",
   "name": "python3"
  },
  "language_info": {
   "codemirror_mode": {
    "name": "ipython",
    "version": 3
   },
   "file_extension": ".py",
   "mimetype": "text/x-python",
   "name": "python",
   "nbconvert_exporter": "python",
   "pygments_lexer": "ipython3",
   "version": "3.9.7"
  }
 },
 "nbformat": 4,
 "nbformat_minor": 5
}
