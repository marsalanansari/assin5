{
 "cells": [
  {
   "cell_type": "code",
   "execution_count": 1,
   "id": "5fb9cb5b",
   "metadata": {},
   "outputs": [
    {
     "name": "stdout",
     "output_type": "stream",
     "text": [
      "['arsalan', 'basha', 'khalid', 'naveed']\n"
     ]
    }
   ],
   "source": [
    "names =['arsalan','khalid','naveed']\n",
    "names.insert(1,'basha')\n",
    "print(names)"
   ]
  },
  {
   "cell_type": "code",
   "execution_count": 3,
   "id": "12e3b8ee",
   "metadata": {},
   "outputs": [
    {
     "name": "stdout",
     "output_type": "stream",
     "text": [
      "['arsalan', 'basha']\n"
     ]
    }
   ],
   "source": [
    "names.pop()\n",
    "print(names)"
   ]
  },
  {
   "cell_type": "code",
   "execution_count": 4,
   "id": "0adb5cbd",
   "metadata": {},
   "outputs": [
    {
     "name": "stdout",
     "output_type": "stream",
     "text": [
      "['arsalan', 'basha', 'ahmad', 'talha']\n"
     ]
    }
   ],
   "source": [
    "names.append('ahmad')\n",
    "names.append('talha')\n",
    "print(names)"
   ]
  },
  {
   "cell_type": "code",
   "execution_count": 5,
   "id": "21489387",
   "metadata": {},
   "outputs": [
    {
     "name": "stdout",
     "output_type": "stream",
     "text": [
      "['arsalan', 'basha', 'ahmad']\n"
     ]
    }
   ],
   "source": [
    "names.remove('talha')\n",
    "print(names)"
   ]
  },
  {
   "cell_type": "code",
   "execution_count": 8,
   "id": "18c2f87a",
   "metadata": {},
   "outputs": [
    {
     "name": "stdout",
     "output_type": "stream",
     "text": [
      "[78, 78, 56, 45, 34, 34, 22, 9, 8, 8, 7, 6, 6, 5, 5, 5, 5, 5, 4, 3, 3, 3, 2, 2, 1]\n"
     ]
    }
   ],
   "source": [
    "num =[1,3,2,5,2,8,6,5,78,9,56,34,3,45,7,5,4,3,5,78,22,6,8,5,34]\n",
    "num.sort(reverse=True)\n",
    "print(num)"
   ]
  },
  {
   "cell_type": "code",
   "execution_count": 12,
   "id": "f09631df",
   "metadata": {},
   "outputs": [
    {
     "name": "stdout",
     "output_type": "stream",
     "text": [
      "[3, 4, 5, 7]\n"
     ]
    }
   ],
   "source": [
    "mylist = [2,3,4,5,3,45,4,23,5,6,7,8]\n",
    "data = mylist[4::2]\n",
    "print(data)"
   ]
  },
  {
   "cell_type": "code",
   "execution_count": 13,
   "id": "e1f5da60",
   "metadata": {},
   "outputs": [
    {
     "name": "stdout",
     "output_type": "stream",
     "text": [
      "arsalan\n",
      "ahmad\n",
      "bilal\n",
      "basit\n"
     ]
    }
   ],
   "source": [
    "list1 = ['arsalan','ahmad','bilal','basit']\n",
    "for a in list1:\n",
    "    print(a)"
   ]
  },
  {
   "cell_type": "code",
   "execution_count": 16,
   "id": "eeb5617b",
   "metadata": {},
   "outputs": [
    {
     "name": "stdout",
     "output_type": "stream",
     "text": [
      "0\n",
      "1\n",
      "2\n",
      "3\n"
     ]
    }
   ],
   "source": [
    "for b in range(len(list1)):\n",
    "    print(b)"
   ]
  },
  {
   "cell_type": "code",
   "execution_count": 23,
   "id": "8bdd4d72",
   "metadata": {},
   "outputs": [
    {
     "name": "stdout",
     "output_type": "stream",
     "text": [
      "1\n",
      "2\n",
      "3\n",
      "4\n",
      "5\n",
      "6\n",
      "7\n",
      "8\n",
      "9\n",
      "10\n",
      "11\n",
      "12\n"
     ]
    }
   ],
   "source": [
    "for c in range(1,20):\n",
    "    print(c)\n",
    "    if c == 12:\n",
    "        break"
   ]
  },
  {
   "cell_type": "code",
   "execution_count": 26,
   "id": "04bda851",
   "metadata": {},
   "outputs": [
    {
     "name": "stdout",
     "output_type": "stream",
     "text": [
      "Enter your num43\n",
      "your number 43 is a odd number\n"
     ]
    }
   ],
   "source": [
    "num = int(input('Enter your num'))\n",
    "if num%2 == 0:\n",
    "    print(f'your number {num} is a even number')\n",
    "else:\n",
    "    print(f'your number {num} is a odd number')"
   ]
  },
  {
   "cell_type": "code",
   "execution_count": 27,
   "id": "25796260",
   "metadata": {},
   "outputs": [
    {
     "name": "stdout",
     "output_type": "stream",
     "text": [
      "[2, 4, 6, 8, 90, 24, 4, 4, 8, 4, 4, 54, 454, 66, 44, 22, 22]\n",
      "[1, 3, 5, 7, 9, 235, 5, 7, 3, 5, 3, 45, 7, 33, 77, 55, 33, 33, 11]\n"
     ]
    }
   ],
   "source": [
    "numb = [1,2,3,4,5,6,7,8,9,90,24,235,5,4,7,4,8,3,5,3,4,45,7,4,54,454,33,66,77,55,44,33,33,22,22,11]\n",
    "even =[]\n",
    "odd = []\n",
    "for g in numb:\n",
    "    if g%2==0:\n",
    "        even.append(g)\n",
    "    else:\n",
    "        odd.append(g)\n",
    "print(even)\n",
    "print(odd)\n",
    "        "
   ]
  },
  {
   "cell_type": "code",
   "execution_count": null,
   "id": "985249f6",
   "metadata": {},
   "outputs": [],
   "source": []
  }
 ],
 "metadata": {
  "kernelspec": {
   "display_name": "Python 3 (ipykernel)",
   "language": "python",
   "name": "python3"
  },
  "language_info": {
   "codemirror_mode": {
    "name": "ipython",
    "version": 3
   },
   "file_extension": ".py",
   "mimetype": "text/x-python",
   "name": "python",
   "nbconvert_exporter": "python",
   "pygments_lexer": "ipython3",
   "version": "3.9.7"
  }
 },
 "nbformat": 4,
 "nbformat_minor": 5
}
